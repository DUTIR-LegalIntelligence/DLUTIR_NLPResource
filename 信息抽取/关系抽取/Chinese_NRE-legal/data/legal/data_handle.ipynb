{
 "cells": [
  {
   "cell_type": "code",
   "execution_count": 23,
   "metadata": {
    "collapsed": true
   },
   "outputs": [],
   "source": [
    "import json\n",
    "import os\n",
    "from torch.utils.data.dataset import random_split\n",
    "import csv"
   ]
  },
  {
   "cell_type": "code",
   "execution_count": 24,
   "metadata": {
    "collapsed": true
   },
   "outputs": [],
   "source": [
    "relation_list=[]"
   ]
  },
  {
   "cell_type": "code",
   "execution_count": 25,
   "metadata": {
    "collapsed": false
   },
   "outputs": [
    {
     "name": "stdout",
     "output_type": "stream",
     "text": [
      "{1, 2} 2\n",
      "[1, 4, 6, 8, 3, 3, 7]\n",
      "[1, 6, 8, 3, 7]\n"
     ]
    },
    {
     "data": {
      "text/plain": [
       "1"
      ]
     },
     "execution_count": 25,
     "metadata": {},
     "output_type": "execute_result"
    }
   ],
   "source": [
    "a=set()\n",
    "a.add(1)\n",
    "a.add(2)\n",
    "b=set()\n",
    "b.add(2)\n",
    "b.add(1)\n",
    "\n",
    "print(a,list(b)[1])\n",
    "l=[1,4,6,8,3,3,7]\n",
    "print(l)\n",
    "l.remove(4)\n",
    "l.remove(3)\n",
    "print(l)\n",
    "x=(1,2)\n",
    "x[0]"
   ]
  },
  {
   "cell_type": "code",
   "execution_count": 26,
   "metadata": {
    "collapsed": true
   },
   "outputs": [],
   "source": [
    "import random"
   ]
  },
  {
   "cell_type": "code",
   "execution_count": 22,
   "metadata": {
    "collapsed": false
   },
   "outputs": [],
   "source": [
    "###随机采样制造负例数据集\n",
    "with open('train_data.json','rt',encoding='utf-8') as fin1,open('test_data.json','rt',encoding='utf-8') as fin2,\\\n",
    "open('train1.json','wt',encoding='utf-8') as fout1,open('test1.json','w',encoding='utf-8') as fout2:\n",
    "#     wtrain=csv.writer(fout1,delimiter='\\t')\n",
    "#     wvalid=csv.writer(fout2,delimiter='\\t')\n",
    "#     wtest=csv.writer(fout3,delimiter='\\t')\n",
    "    \n",
    "    train_=[]\n",
    "    for line in fin1:\n",
    "        line = line.strip()\n",
    "        if not line:\n",
    "            continue  #结束则跳出循环\n",
    "        sentence = json.loads(line)#将json数据转换成python对象  这里是转换为了字典\n",
    "        train_.append(sentence)\n",
    "\n",
    "    for tr in train_:\n",
    "        sentence_text=list(tr[\"sentText\"].strip().strip('\"'))\n",
    "#         print(len(sentence_text))\n",
    "        entity_list=[]\n",
    "        entitypair_list=[]\n",
    "        \n",
    "        for entity in tr[\"entityMentions\"]:\n",
    "            entity_list.append((entity['text'],entity['start']))\n",
    "        for e1 in entity_list:\n",
    "            for e2 in entity_list:\n",
    "                if e1!=e2:\n",
    "                    entitypair=set()\n",
    "                    entitypair.add(e1)\n",
    "                    entitypair.add(e2)\n",
    "                    if entitypair not in entitypair_list:\n",
    "                        entitypair_list.append(entitypair)\n",
    "#         print(len(entitypair_list))\n",
    "        \n",
    "        for relation in tr['relationMentions']:\n",
    "            sent=sentence_text.copy()\n",
    "            \n",
    "            e1=relation['em1Text']\n",
    "            e2=relation['em2Text']\n",
    "            re=relation['label']\n",
    "            \n",
    "            re_pair=set()\n",
    "            re_pair.add(e1)\n",
    "            re_pair.add(e2)\n",
    "            if re_pair in entitypair_list:\n",
    "                entitypair_list.remove(re_pair)\n",
    "                \n",
    "                \n",
    "#             wtrain.writerow((e1,e2,re,''.join(sent)))\n",
    "            #print(sid,''.join(sent),re_type,sentID)\n",
    "    \n",
    "#             print(sentence_text[j],label[j])\n",
    "#             if re not in relation_list:\n",
    "#                 relation_list.append(re)\n",
    "#         print(len(entitypair_list))\n",
    "        if len(entitypair_list)>1:\n",
    "            ranlist=entitypair_list\n",
    "            ranlist=random.sample(entitypair_list,1)\n",
    "            for ran in ranlist:\n",
    "                tr['relationMentions'].append({\"e1start\":list(ran)[0][1],\\\n",
    "                                               \"em1Text\":list(ran)[0][0],\\\n",
    "                                               \"e21start\":list(ran)[1][1],\\\n",
    "                                               \"em2Text\":list(ran)[1][0],\\\n",
    "                                               \"label\":'NA'})\n",
    "\n",
    "        fout1.write(json.dumps(tr,ensure_ascii=False)+'\\n')\n",
    "      \n",
    "    \n",
    " \n",
    "    test_=[]\n",
    "    for line in fin2:\n",
    "        line = line.strip()\n",
    "        if not line:\n",
    "            continue  #结束则跳出循环\n",
    "        sentence = json.loads(line)#将json数据转换成python对象  这里是转换为了字典\n",
    "        test_.append(sentence)\n",
    "    \n",
    "    for te in test_:\n",
    "        sentence_text=list(te[\"sentText\"].strip().strip('\"'))\n",
    "#         print(len(sentence_text))\n",
    "        entity_list=[]\n",
    "        entitypair_list=[]\n",
    "        \n",
    "        for entity in te[\"entityMentions\"]:\n",
    "            entity_list.append((entity['text'],entity['start']))\n",
    "        for e1 in entity_list:\n",
    "            for e2 in entity_list:\n",
    "                if e1!=e2:\n",
    "                    entitypair=set()\n",
    "                    entitypair.add(e1)\n",
    "                    entitypair.add(e2)\n",
    "                    if entitypair not in entitypair_list:\n",
    "                        entitypair_list.append(entitypair)\n",
    "                       \n",
    "        for relation in te['relationMentions']:\n",
    "            sent=sentence_text.copy()\n",
    "            \n",
    "            e1=relation['em1Text']\n",
    "            e2=relation['em2Text']\n",
    "            re=relation['label']\n",
    "            \n",
    "            re_pair=set()\n",
    "            re_pair.add(e1)\n",
    "            re_pair.add(e2)\n",
    "            \n",
    "            if re_pair in entitypair_list:\n",
    "                entitypair_list.remove(re_pair)\n",
    "\n",
    "        \n",
    "        if len(entitypair_list)>1:\n",
    "            ranlist=entitypair_list\n",
    "            ranlist=random.sample(entitypair_list,1)\n",
    "            for ran in ranlist:\n",
    "                te['relationMentions'].append({\"e1start\":list(ran)[0][1],\\\n",
    "                                               \"em1Text\":list(ran)[0][0],\\\n",
    "                                               \"e21start\":list(ran)[1][1],\\\n",
    "                                               \"em2Text\":list(ran)[1][0],\\\n",
    "                                               \"label\":'NA'})\n",
    "\n",
    "    \n",
    "\n",
    "        fout2.write(json.dumps(te,ensure_ascii=False)+'\\n')"
   ]
  },
  {
   "cell_type": "code",
   "execution_count": 29,
   "metadata": {
    "collapsed": false
   },
   "outputs": [],
   "source": [
    "###  由json格式文件转化为txt格式的数据集\n",
    "with open('train.json','rt',encoding='utf-8') as fin1,open('test.json','rt',encoding='utf-8') as fin2,\\\n",
    "open('train.txt','w',newline='',encoding='utf-8') as fout1,open('valid.txt','w',newline='',encoding='utf-8') as fout2,open('test.txt','w',newline='',encoding='utf-8') as fout3:\n",
    "    wtrain=csv.writer(fout1,delimiter='\\t')\n",
    "    wvalid=csv.writer(fout2,delimiter='\\t')\n",
    "    wtest=csv.writer(fout3,delimiter='\\t')\n",
    "    \n",
    "    train_=[]\n",
    "    for line in fin1:\n",
    "        line = line.strip()\n",
    "        if not line:\n",
    "            continue  #结束则跳出循环\n",
    "        sentence = json.loads(line)#将json数据转换成python对象  这里是转换为了字典\n",
    "        train_.append(sentence)\n",
    "    train_size=len(train_)\n",
    "    val_size = int(0.25 * len(train_))\n",
    "    train_,val_= random_split(train_, [train_size-val_size,val_size])\n",
    "    train_=list(train_)\n",
    "    val_=list(val_)\n",
    "    \n",
    "    \n",
    "#     fre=open('relations.txt','r',encoding='utf-8') \n",
    "#     relation_type=[x.strip() for x in fre.readlines()]\n",
    "    \n",
    "#     print(relation_type)\n",
    "    \n",
    "    for tr in train_:\n",
    "        sentence_text=list(tr[\"sentText\"].strip().strip('\"'))\n",
    "#         print(len(sentence_text))\n",
    "        \n",
    "        for relation in tr['relationMentions']:\n",
    "            sent=sentence_text.copy()\n",
    "            \n",
    "            e1=relation['em1Text']\n",
    "            e2=relation['em2Text']\n",
    "            re=relation['label']\n",
    "            \n",
    "            \n",
    "                \n",
    "            wtrain.writerow((e1,e2,re,''.join(sent)))\n",
    "            #print(sid,''.join(sent),re_type,sentID)\n",
    "    \n",
    "#             print(sentence_text[j],label[j])\n",
    "            if re not in relation_list:\n",
    "                relation_list.append(re)\n",
    "\n",
    "        \n",
    "    for vl in val_:\n",
    "        sentence_text=list(vl[\"sentText\"].strip().strip('\"'))\n",
    "#         print(len(sentence_text))\n",
    "\n",
    "        for relation in vl['relationMentions']:\n",
    "            sent=sentence_text.copy()\n",
    "            \n",
    "            e1=relation['em1Text']\n",
    "            e2=relation['em2Text']\n",
    "            re=relation['label']\n",
    "                \n",
    "            wvalid.writerow((e1,e2,re,''.join(sent)))\n",
    "            \n",
    "           \n",
    "\n",
    "    \n",
    " \n",
    "    test_=[]\n",
    "    for line in fin2:\n",
    "        line = line.strip()\n",
    "        if not line:\n",
    "            continue  #结束则跳出循环\n",
    "        sentence = json.loads(line)#将json数据转换成python对象  这里是转换为了字典\n",
    "        test_.append(sentence)\n",
    "    \n",
    "    for te in test_:\n",
    "        sentence_text=list(te[\"sentText\"].strip().strip('\"'))\n",
    "#         print(len(sentence_text))\n",
    " \n",
    "        for relation in te['relationMentions']:\n",
    "            sent=sentence_text.copy()\n",
    "            \n",
    "            e1=relation['em1Text']\n",
    "            e2=relation['em2Text']\n",
    "            re=relation['label']\n",
    "            \n",
    "                \n",
    "            wtest.writerow((e1,e2,re,''.join(sent)))\n",
    "        \n",
    "\n",
    "\n",
    "    \n",
    "\n",
    "    "
   ]
  },
  {
   "cell_type": "code",
   "execution_count": 52,
   "metadata": {
    "collapsed": false
   },
   "outputs": [],
   "source": [
    "relation_list.append('NA')"
   ]
  },
  {
   "cell_type": "code",
   "execution_count": 30,
   "metadata": {
    "collapsed": false
   },
   "outputs": [
    {
     "data": {
      "text/plain": [
       "['provide_shelter_for', 'NA', 'posess', 'sell_drugs_to', 'traffic_in']"
      ]
     },
     "execution_count": 30,
     "metadata": {},
     "output_type": "execute_result"
    }
   ],
   "source": [
    "relation_list"
   ]
  },
  {
   "cell_type": "code",
   "execution_count": 54,
   "metadata": {
    "collapsed": false
   },
   "outputs": [],
   "source": [
    "with open('relation2id.txt','w',newline='',encoding='utf-8') as fre:\n",
    "    wre=csv.writer(fre,delimiter='\\t')\n",
    "    for i,re in enumerate(relation_list):\n",
    "        wre.writerow((re,i))"
   ]
  },
  {
   "cell_type": "code",
   "execution_count": 30,
   "metadata": {
    "collapsed": false
   },
   "outputs": [
    {
     "name": "stdout",
     "output_type": "stream",
     "text": [
      "17227\n"
     ]
    }
   ],
   "source": [
    "with open('trainS.txt','r',newline='',encoding='utf-8') as fre:\n",
    "    train=fre.readlines()\n",
    "print(len(train))"
   ]
  },
  {
   "cell_type": "code",
   "execution_count": 31,
   "metadata": {
    "collapsed": false
   },
   "outputs": [
    {
     "data": {
      "text/plain": [
       "4619"
      ]
     },
     "execution_count": 31,
     "metadata": {},
     "output_type": "execute_result"
    }
   ],
   "source": [
    "count=0\n",
    "for t in train:\n",
    "    if t.split()[2]=='unknown':\n",
    "        count+=1\n",
    "count"
   ]
  },
  {
   "cell_type": "code",
   "execution_count": 18,
   "metadata": {
    "collapsed": true
   },
   "outputs": [],
   "source": [
    "with open('train_data.json','rt',encoding='utf-8') as fin1,open('test_data.json','rt',encoding='utf-8') as fin2,\\\n",
    "open('train1.json','wt',encoding='utf-8') as fout1,open('test1.json','w',encoding='utf-8') as fout2:\n",
    "    train_=[]\n",
    "    for line in fin1:\n",
    "        line = line.strip()\n",
    "        if not line:\n",
    "            continue  #结束则跳出循环\n",
    "        sentence = json.loads(line)#将json数据转换成python对象  这里是转换为了字典\n",
    "        train_.append(sentence)\n",
    "    for tr in train_:\n",
    "        fout1.write(json.dumps(tr,ensure_ascii=False)+'\\n')\n",
    "    test_=[]\n",
    "    for line in fin2:\n",
    "        line = line.strip()\n",
    "        if not line:\n",
    "            continue  #结束则跳出循环\n",
    "        sentence = json.loads(line)#将json数据转换成python对象  这里是转换为了字典\n",
    "        test_.append(sentence)   \n",
    "    for te in test_:\n",
    "        fout2.write(json.dumps(te,ensure_ascii=False)+'\\n')"
   ]
  },
  {
   "cell_type": "code",
   "execution_count": null,
   "metadata": {
    "collapsed": true
   },
   "outputs": [],
   "source": []
  }
 ],
 "metadata": {
  "anaconda-cloud": {},
  "kernelspec": {
   "display_name": "Python [conda env:jointextraction]",
   "language": "python",
   "name": "conda-env-jointextraction-py"
  },
  "language_info": {
   "codemirror_mode": {
    "name": "ipython",
    "version": 3
   },
   "file_extension": ".py",
   "mimetype": "text/x-python",
   "name": "python",
   "nbconvert_exporter": "python",
   "pygments_lexer": "ipython3",
   "version": "3.6.1"
  }
 },
 "nbformat": 4,
 "nbformat_minor": 1
}
